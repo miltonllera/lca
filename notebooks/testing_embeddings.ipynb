{
 "cells": [
  {
   "cell_type": "code",
   "execution_count": null,
   "id": "22de98ef-6ca4-440b-8f66-70be8287c685",
   "metadata": {},
   "outputs": [],
   "source": [
    "import rootutils\n",
    "\n",
    "rootutils.setup_root(\n",
    "    search_from='.',\n",
    "    indicator=[\".git\", \"pyproject.toml\"],\n",
    "    project_root_env_var=True, # set the PROJECT_ROOT environment variable to root directory\n",
    "    dotenv=True, # load environment variables from .env if exists in root directory\n",
    "    pythonpath=True, # add root directory to the PYTHONPATH (helps with imports)\n",
    "    cwd=True, # change current working directory to the root directory (helps with filepaths)\n",
    ")"
   ]
  },
  {
   "cell_type": "code",
   "execution_count": null,
   "id": "ea8bb56e-43ba-4671-a5ca-b6ebf130f933",
   "metadata": {},
   "outputs": [],
   "source": [
    "import h5py\n",
    "\n",
    "filepath = \"data/datasets/emojis/animal_emojis_n_variants_0.h5\"\n",
    "\n",
    "with h5py.File(filepath, \"r\") as f:\n",
    "    images = f[\"images\"][:]\n",
    "    descriptions = [d.item().decode(\"utf8\") for d in f[\"descriptions\"]]\n",
    "\n",
    "print(images.shape)\n",
    "example_text = descriptions[0]"
   ]
  },
  {
   "cell_type": "code",
   "execution_count": null,
   "id": "b09ca169-4c7e-4306-8ced-3a040ff51473",
   "metadata": {},
   "outputs": [],
   "source": [
    "import torch\n",
    "import open_clip\n",
    "from transformers import AutoModel, AutoTokenizer\n",
    "\n",
    "torch.set_grad_enabled(False)\n",
    "\n",
    "MODEL = 'CLIP'\n",
    "\n",
    "if MODEL == \"OPENCLIP\":\n",
    "    model_name = \"ViT-L-14\"\n",
    "    pretrained = \"openai\"\n",
    "    model, _, preprocess = open_clip.create_model_and_transforms(model_name, pretrained=pretrained)\n",
    "    tokenizer = open_clip.get_tokenizer('ViT-B-32')\n",
    "    # emb_model_text = CLIPTextModelWithProjection.from_pretrained(\"openai/clip-vit-base-patch32\")\n",
    "    # tokenizer = AutoTokenizer.from_pretrained(\"openai/clip-vit-base-patch32\")\n",
    "elif MODEL == \"CLIP\":\n",
    "    model = AutoModel.from_pretrained(\"openai/clip-vit-base-patch32\")\n",
    "    tokenizer = AutoTokenizer.from_pretrained(\"openai/clip-vit-base-patch32\")\n",
    "# elif MODEL == \"BLIP\":\n",
    "#     model_name = \"Salesforce/blip2-opt-2.7b\"\n",
    "#     processor = Auto.from_pretrained(model_name)\n",
    "#     model = Blip2Model.from_pretrained(model_name, torch_dtype=torch.float16, device_map=\"auto\")"
   ]
  },
  {
   "cell_type": "code",
   "execution_count": null,
   "id": "a3891293-6bb0-4e76-8374-0f24091be82e",
   "metadata": {},
   "outputs": [],
   "source": [
    "# # OPENCLIP\n",
    "# print(example_text)\n",
    "# text = tokenizer(example_text)\n",
    "# print(text)\n",
    "# bpe = tokenizer.decode(text[0].tolist())\n",
    "# print(bpe)"
   ]
  },
  {
   "cell_type": "code",
   "execution_count": null,
   "id": "f7bab4d0-cb2c-4ca2-b88a-c382608607ec",
   "metadata": {},
   "outputs": [],
   "source": [
    "# CLIP\n",
    "encoding = tokenizer(example_text)\n",
    "print(encoding['input_ids'][1:8])\n",
    "i = 1\n",
    "tokenizer.decode(encoding['input_ids'][1:2])"
   ]
  },
  {
   "cell_type": "code",
   "execution_count": null,
   "id": "02239429-c748-4911-8d2e-5475fc622936",
   "metadata": {},
   "outputs": [],
   "source": [
    "encoding = tokenizer(descriptions, padding=True, truncation=True, return_tensors=\"pt\")\n",
    "outputs = model.text_model(encoding['input_ids'], output_hidden_states=True)\n",
    "outputs.last_hidden_state.shape"
   ]
  }
 ],
 "metadata": {
  "kernelspec": {
   "display_name": "Python 3 (ipykernel)",
   "language": "python",
   "name": "python3"
  },
  "language_info": {
   "codemirror_mode": {
    "name": "ipython",
    "version": 3
   },
   "file_extension": ".py",
   "mimetype": "text/x-python",
   "name": "python",
   "nbconvert_exporter": "python",
   "pygments_lexer": "ipython3",
   "version": "3.13.1"
  }
 },
 "nbformat": 4,
 "nbformat_minor": 5
}
