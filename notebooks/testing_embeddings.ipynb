{
 "cells": [
  {
   "cell_type": "markdown",
   "id": "7c9b92a4-3e0d-489b-9157-152b3522b4c1",
   "metadata": {},
   "source": [
    "# "
   ]
  },
  {
   "cell_type": "code",
   "execution_count": null,
   "id": "22de98ef-6ca4-440b-8f66-70be8287c685",
   "metadata": {},
   "outputs": [],
   "source": [
    "import rootutils\n",
    "\n",
    "rootutils.setup_root(\n",
    "    search_from='.',\n",
    "    indicator=[\".git\", \"pyproject.toml\"],\n",
    "    project_root_env_var=True, # set the PROJECT_ROOT environment variable to root directory\n",
    "    dotenv=True, # load environment variables from .env if exists in root directory\n",
    "    pythonpath=True, # add root directory to the PYTHONPATH (helps with imports)\n",
    "    cwd=True, # change current working directory to the root directory (helps with filepaths)\n",
    ")"
   ]
  },
  {
   "cell_type": "code",
   "execution_count": null,
   "id": "ea8bb56e-43ba-4671-a5ca-b6ebf130f933",
   "metadata": {},
   "outputs": [],
   "source": [
    "import h5py\n",
    "\n",
    "filepath = \"data/datasets/emojis/animal_emojis_n_variants_0.h5\"\n",
    "\n",
    "with h5py.File(filepath, \"r\") as f:\n",
    "    images = f[\"images\"][:]\n",
    "    token_emb = f['token_embeddings'][:]\n"
   ]
  },
  {
   "cell_type": "code",
   "execution_count": null,
   "id": "de6a4738-bf5c-47e0-ba61-fb266a0a98d8",
   "metadata": {},
   "outputs": [],
   "source": [
    "import jax.random as jr\n",
    "from src.model.lca import AttentionLCA\n",
    "\n",
    "lca = AttentionLCA(\n",
    "    token_dim=token_emb.shape[-1],\n",
    "    hidden_size=128,\n",
    "    update_width=token_emb.shape[-1] * 4,\n",
    "    update_depth=2,\n",
    "    key=jr.key(42)\n",
    ")"
   ]
  },
  {
   "cell_type": "code",
   "execution_count": null,
   "id": "050ceec9-302b-4d5b-a2e1-24473418e80d",
   "metadata": {},
   "outputs": [],
   "source": [
    "import numpy as np\n",
    "import jax\n",
    "import jax.numpy as jnp\n",
    "import equinox as eqx\n",
    "from typing import Callable\n",
    "from jaxtyping import Array, Float, PyTree\n",
    "\n",
    "from src.nn.seeding import init_central_seed\n",
    "\n",
    "\n",
    "def init_fn(b, shape):\n",
    "    return np.repeat(init_central_seed((lca.state_size, *shape))[None], repeats=b, axis=0)\n",
    "\n",
    "\n",
    "def compute_loss(\n",
    "    model: Callable,\n",
    "    batch: tuple[jax.Array, jax.Array],\n",
    "    key: jax.Array\n",
    "):\n",
    "    inputs, targets = batch\n",
    "    B, _, H, W = targets.shape\n",
    "    \n",
    "    batch_key = jr.split(key, B)\n",
    "    init_states = init_fn(B, (H, W))\n",
    "    preds, _ = jax.vmap(model)(init_states, inputs, batch_key)\n",
    "    \n",
    "    return jnp.sum(optax.l2_loss(preds, targets)) / len(targets)\n",
    "\n",
    "\n",
    "@eqx.filter_jit\n",
    "def train_step(\n",
    "    model: PyTree,\n",
    "    batch: tuple[Float[Array, \"NCHW\"], Float[Array, \"NCHW\"]],\n",
    "    opt_state: PyTree,\n",
    "    key: jax.Array,\n",
    "):\n",
    "    loss_value, grads = eqx.filter_value_and_grad(compute_loss)(model, batch, key)\n",
    "    updates, opt_state = optim.update(grads, opt_state, model)\n",
    "    model = eqx.apply_updates(model, updates)\n",
    "    return loss_value, model, opt_state"
   ]
  },
  {
   "cell_type": "code",
   "execution_count": null,
   "id": "8fbe2654-b028-48e9-80a0-c6f0c67f43ca",
   "metadata": {},
   "outputs": [],
   "source": [
    "import optax\n",
    "\n",
    "lr = 1e-5\n",
    "\n",
    "optim = optax.chain(\n",
    "    optax.clip_by_global_norm(1.0),\n",
    "    # optax.clip_by_block_rms(1.0),\n",
    "    optax.adamw(lr),\n",
    ")\n",
    "opt_state = optim.init(eqx.filter(lca, eqx.is_array))"
   ]
  },
  {
   "cell_type": "code",
   "execution_count": null,
   "id": "f2c2001b-38b4-49a2-8bb6-50da98a3e2f2",
   "metadata": {},
   "outputs": [],
   "source": [
    "from tqdm import tqdm\n",
    "\n",
    "train_iters = 1000\n",
    "batch = token_emb[:8], images[:8]\n",
    "key = jr.key(42)\n",
    "\n",
    "for i in (pbar := tqdm(range(train_iters))):\n",
    "    key, step_key = jr.split(key, 2)\n",
    "    train_loss, lca, opt_state = train_step(lca, batch, opt_state, step_key)\n",
    "    pbar.set_postfix_str(f\"iter: {i}; loss: {np.asarray(train_loss)}\")"
   ]
  },
  {
   "cell_type": "code",
   "execution_count": null,
   "id": "5093f263-afd3-49b5-bc12-79582737dfbb",
   "metadata": {},
   "outputs": [],
   "source": [
    "examples = jax.vmap(lca)(jax.vmap(model)(init_fn(len(targets), targets.shape[-2:]), inputs, jr.split(key, len(targets))"
   ]
  },
  {
   "cell_type": "code",
   "execution_count": null,
   "id": "a978fdc8-7c5a-46b2-80b0-ea6cbdb0739c",
   "metadata": {},
   "outputs": [],
   "source": [
    "import matplotlib.pyplot as plt\n",
    "from src.visualisation.utils import tile2d\n",
    "\n",
    "plt.imshow(tile2d(examples[0].transpose(0, 2, 3, 1), w=4, format='NHWC'))"
   ]
  }
 ],
 "metadata": {
  "kernelspec": {
   "display_name": "Python 3 (ipykernel)",
   "language": "python",
   "name": "python3"
  },
  "language_info": {
   "codemirror_mode": {
    "name": "ipython",
    "version": 3
   },
   "file_extension": ".py",
   "mimetype": "text/x-python",
   "name": "python",
   "nbconvert_exporter": "python",
   "pygments_lexer": "ipython3",
   "version": "3.13.5"
  }
 },
 "nbformat": 4,
 "nbformat_minor": 5
}
